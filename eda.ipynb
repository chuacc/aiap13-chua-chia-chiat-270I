{
 "cells": [
  {
   "attachments": {},
   "cell_type": "markdown",
   "metadata": {},
   "source": [
    "Task 1 - Exploratory Data Analysis (EDA)\n",
    "\n",
    "**Data Set Source** : https://techassessment.blob.core.windows.net/aiap13-assessment-data/failure.db <br>\n",
    "\n",
    "\n",
    "**Data Set Information:** <br>\n",
    "\n",
    "The dataset contains the specifications of the cars as well as parameters measured by the car sensors.\n",
    "\n",
    "**Features Information:** <br>\n",
    "\n",
    "<ol>\n",
    "  <li>Car ID : Car unique ID</li>\n",
    "  <li>Model : Car model 3,5 and 7 (in the order of increasing specifications</li>\n",
    "  <li>Colour : Colour of the car</li>\n",
    "  <li>Temperature : Average 30 days temperature of the car engine before failure detected</li>\n",
    "  <li>RPM : Average 30 days maximum torque speed at maximum torque before failure\n",
    "detected</li>\n",
    "  <li>Factory : Manufacturing origin of the car</li>\n",
    "  <li>Usage : Owner usage frequency of the car</li>\n",
    "  <li>Fuel consumption : Fuel consumption of the car in Litre per kilometre</li>\n",
    "  <li>Membership : Type of membership subscripted by the car owner with the automotive company.<br>\n",
    "      “Normal” membership offers subscribers two complimentary car servicing per year.<br>\n",
    "      “Premium” membership offers subscribers unlimited car servicing.<br>\n",
    "      Car owners are automatically subscribed with “Normal” membership for the first five years after car purchase.\n",
    "  </li>\n",
    "  <li>Failure A - E :  A type of car failure: “0” = Corresponding fault not identified, “1” =\n",
    "Corresponding fault identified </li>\n",
    "</ol>\n",
    "\n",
    "\n",
    "**Objective** <br>\n",
    "Apply perform EDA on the dataset and predict the occurance of car failure using at least 3 models.\n",
    "\n",
    "\n",
    "**Preprocessing** <br>\n",
    "\n",
    "<ol>\n",
    "  <li>Check and resolve missing values</li>\n",
    "  <li>Remove duplicated rows</li>\n",
    "  <li>Check for invalid, incorrect values</li>\n",
    "  <li>Understand the features and perform feature engineering</li>\n",
    "  <li>Remove outliers</li>\n",
    "</ol>"
   ]
  },
  {
   "cell_type": "code",
   "execution_count": 1,
   "metadata": {},
   "outputs": [],
   "source": [
    "import sqlite3\n",
    "import pandas as pd\n",
    "import numpy as np\n",
    "import matplotlib.pyplot as plt\n",
    "import seaborn as sns\n"
   ]
  },
  {
   "attachments": {},
   "cell_type": "markdown",
   "metadata": {},
   "source": [
    "### Read database into Dataframe"
   ]
  },
  {
   "cell_type": "code",
   "execution_count": 2,
   "metadata": {},
   "outputs": [],
   "source": [
    "con = sqlite3.connect(\"data/failure.db\")\n",
    "df = pd.read_sql_query(\"SELECT * from failure\", con)\n",
    "con.close()\n"
   ]
  },
  {
   "cell_type": "code",
   "execution_count": 3,
   "metadata": {},
   "outputs": [
    {
     "data": {
      "text/html": [
       "<div>\n",
       "<style scoped>\n",
       "    .dataframe tbody tr th:only-of-type {\n",
       "        vertical-align: middle;\n",
       "    }\n",
       "\n",
       "    .dataframe tbody tr th {\n",
       "        vertical-align: top;\n",
       "    }\n",
       "\n",
       "    .dataframe thead th {\n",
       "        text-align: right;\n",
       "    }\n",
       "</style>\n",
       "<table border=\"1\" class=\"dataframe\">\n",
       "  <thead>\n",
       "    <tr style=\"text-align: right;\">\n",
       "      <th></th>\n",
       "      <th>Car ID</th>\n",
       "      <th>Model</th>\n",
       "      <th>Color</th>\n",
       "      <th>Temperature</th>\n",
       "      <th>RPM</th>\n",
       "      <th>Factory</th>\n",
       "      <th>Usage</th>\n",
       "      <th>Fuel consumption</th>\n",
       "      <th>Membership</th>\n",
       "      <th>Failure A</th>\n",
       "      <th>Failure B</th>\n",
       "      <th>Failure C</th>\n",
       "      <th>Failure D</th>\n",
       "      <th>Failure E</th>\n",
       "    </tr>\n",
       "  </thead>\n",
       "  <tbody>\n",
       "    <tr>\n",
       "      <th>0</th>\n",
       "      <td>137b948a-c99f-4afa-a2a7-9ef65ae51e8f</td>\n",
       "      <td>Model 5, 2022</td>\n",
       "      <td>Blue</td>\n",
       "      <td>110.3 °C</td>\n",
       "      <td>1551</td>\n",
       "      <td>Shang Hai, China</td>\n",
       "      <td>Medium</td>\n",
       "      <td>659.7</td>\n",
       "      <td>Normal</td>\n",
       "      <td>0</td>\n",
       "      <td>0</td>\n",
       "      <td>0</td>\n",
       "      <td>0</td>\n",
       "      <td>0</td>\n",
       "    </tr>\n",
       "    <tr>\n",
       "      <th>1</th>\n",
       "      <td>3395a182-7e76-4fb3-94ba-5163d8f4e6b0</td>\n",
       "      <td>Model 3, 2022</td>\n",
       "      <td>Black</td>\n",
       "      <td>110.4 °C</td>\n",
       "      <td>1408</td>\n",
       "      <td>Shang Hai, China</td>\n",
       "      <td>Medium</td>\n",
       "      <td>705.3</td>\n",
       "      <td>Premium</td>\n",
       "      <td>1</td>\n",
       "      <td>0</td>\n",
       "      <td>0</td>\n",
       "      <td>0</td>\n",
       "      <td>0</td>\n",
       "    </tr>\n",
       "    <tr>\n",
       "      <th>2</th>\n",
       "      <td>8c6a8e5b-d869-4665-b739-819c9e4a2070</td>\n",
       "      <td>Model 3, 2022</td>\n",
       "      <td>Grey</td>\n",
       "      <td>110.3 °C</td>\n",
       "      <td>1498</td>\n",
       "      <td>Shang Hai, China</td>\n",
       "      <td>Low</td>\n",
       "      <td>670.7</td>\n",
       "      <td>Premium</td>\n",
       "      <td>0</td>\n",
       "      <td>0</td>\n",
       "      <td>0</td>\n",
       "      <td>0</td>\n",
       "      <td>0</td>\n",
       "    </tr>\n",
       "    <tr>\n",
       "      <th>3</th>\n",
       "      <td>ff864366-fe5e-409e-9b2f-8fe440d8cc5b</td>\n",
       "      <td>Model 3, 2022</td>\n",
       "      <td>Black</td>\n",
       "      <td>110.4 °C</td>\n",
       "      <td>1433</td>\n",
       "      <td>Berlin, Germany</td>\n",
       "      <td>High</td>\n",
       "      <td>630.6</td>\n",
       "      <td>Premium</td>\n",
       "      <td>1</td>\n",
       "      <td>0</td>\n",
       "      <td>0</td>\n",
       "      <td>0</td>\n",
       "      <td>0</td>\n",
       "    </tr>\n",
       "    <tr>\n",
       "      <th>4</th>\n",
       "      <td>10484506-1be0-4a86-8dbc-b8b2092b93b2</td>\n",
       "      <td>Model 3, 2022</td>\n",
       "      <td>White</td>\n",
       "      <td>230.7 °C</td>\n",
       "      <td>1408</td>\n",
       "      <td>New York, U.S</td>\n",
       "      <td>High</td>\n",
       "      <td>660.9</td>\n",
       "      <td>Normal</td>\n",
       "      <td>0</td>\n",
       "      <td>1</td>\n",
       "      <td>0</td>\n",
       "      <td>0</td>\n",
       "      <td>0</td>\n",
       "    </tr>\n",
       "    <tr>\n",
       "      <th>5</th>\n",
       "      <td>3b5e4310-9f3f-4c4d-92c3-ec09fa36f772</td>\n",
       "      <td>Model 5, 2021</td>\n",
       "      <td>White</td>\n",
       "      <td>110.3 °C</td>\n",
       "      <td>1425</td>\n",
       "      <td>Shang Hai, China</td>\n",
       "      <td>Medium</td>\n",
       "      <td>691.8</td>\n",
       "      <td>Premium</td>\n",
       "      <td>0</td>\n",
       "      <td>0</td>\n",
       "      <td>0</td>\n",
       "      <td>0</td>\n",
       "      <td>0</td>\n",
       "    </tr>\n",
       "    <tr>\n",
       "      <th>6</th>\n",
       "      <td>6758d615-185a-4ad3-b9a5-d5b4ebf9e933</td>\n",
       "      <td>Model 3, 2021</td>\n",
       "      <td>White</td>\n",
       "      <td>110.3 °C</td>\n",
       "      <td>1558</td>\n",
       "      <td>Shang Hai, China</td>\n",
       "      <td>Medium</td>\n",
       "      <td>660.1</td>\n",
       "      <td>Premium</td>\n",
       "      <td>0</td>\n",
       "      <td>0</td>\n",
       "      <td>0</td>\n",
       "      <td>0</td>\n",
       "      <td>0</td>\n",
       "    </tr>\n",
       "    <tr>\n",
       "      <th>7</th>\n",
       "      <td>ee7d677a-8f65-4773-a158-e59843ae8109</td>\n",
       "      <td>Model 3, 2021</td>\n",
       "      <td>White</td>\n",
       "      <td>110.3 °C</td>\n",
       "      <td>1527</td>\n",
       "      <td>Berlin, Germany</td>\n",
       "      <td>Medium</td>\n",
       "      <td>673.0</td>\n",
       "      <td>Premium</td>\n",
       "      <td>0</td>\n",
       "      <td>0</td>\n",
       "      <td>0</td>\n",
       "      <td>0</td>\n",
       "      <td>0</td>\n",
       "    </tr>\n",
       "    <tr>\n",
       "      <th>8</th>\n",
       "      <td>bcac8a8b-fb2c-43d9-aa80-193421f70e36</td>\n",
       "      <td>Model 5, 2021</td>\n",
       "      <td>Red</td>\n",
       "      <td>110.4 °C</td>\n",
       "      <td>1667</td>\n",
       "      <td>Shang Hai, China</td>\n",
       "      <td>Medium</td>\n",
       "      <td>655.6</td>\n",
       "      <td>Normal</td>\n",
       "      <td>0</td>\n",
       "      <td>0</td>\n",
       "      <td>0</td>\n",
       "      <td>0</td>\n",
       "      <td>0</td>\n",
       "    </tr>\n",
       "    <tr>\n",
       "      <th>9</th>\n",
       "      <td>fef5d386-9636-4a63-8a39-67bd005be989</td>\n",
       "      <td>Model 5, 2021</td>\n",
       "      <td>Black</td>\n",
       "      <td>110.4 °C</td>\n",
       "      <td>1741</td>\n",
       "      <td>Berlin, Germany</td>\n",
       "      <td>Medium</td>\n",
       "      <td>648.9</td>\n",
       "      <td>Normal</td>\n",
       "      <td>0</td>\n",
       "      <td>0</td>\n",
       "      <td>0</td>\n",
       "      <td>0</td>\n",
       "      <td>0</td>\n",
       "    </tr>\n",
       "  </tbody>\n",
       "</table>\n",
       "</div>"
      ],
      "text/plain": [
       "                                 Car ID          Model  Color Temperature  \\\n",
       "0  137b948a-c99f-4afa-a2a7-9ef65ae51e8f  Model 5, 2022   Blue    110.3 °C   \n",
       "1  3395a182-7e76-4fb3-94ba-5163d8f4e6b0  Model 3, 2022  Black    110.4 °C   \n",
       "2  8c6a8e5b-d869-4665-b739-819c9e4a2070  Model 3, 2022   Grey    110.3 °C   \n",
       "3  ff864366-fe5e-409e-9b2f-8fe440d8cc5b  Model 3, 2022  Black    110.4 °C   \n",
       "4  10484506-1be0-4a86-8dbc-b8b2092b93b2  Model 3, 2022  White    230.7 °C   \n",
       "5  3b5e4310-9f3f-4c4d-92c3-ec09fa36f772  Model 5, 2021  White    110.3 °C   \n",
       "6  6758d615-185a-4ad3-b9a5-d5b4ebf9e933  Model 3, 2021  White    110.3 °C   \n",
       "7  ee7d677a-8f65-4773-a158-e59843ae8109  Model 3, 2021  White    110.3 °C   \n",
       "8  bcac8a8b-fb2c-43d9-aa80-193421f70e36  Model 5, 2021    Red    110.4 °C   \n",
       "9  fef5d386-9636-4a63-8a39-67bd005be989  Model 5, 2021  Black    110.4 °C   \n",
       "\n",
       "    RPM           Factory   Usage  Fuel consumption Membership  Failure A  \\\n",
       "0  1551  Shang Hai, China  Medium             659.7     Normal          0   \n",
       "1  1408  Shang Hai, China  Medium             705.3    Premium          1   \n",
       "2  1498  Shang Hai, China     Low             670.7    Premium          0   \n",
       "3  1433   Berlin, Germany    High             630.6    Premium          1   \n",
       "4  1408     New York, U.S    High             660.9     Normal          0   \n",
       "5  1425  Shang Hai, China  Medium             691.8    Premium          0   \n",
       "6  1558  Shang Hai, China  Medium             660.1    Premium          0   \n",
       "7  1527   Berlin, Germany  Medium             673.0    Premium          0   \n",
       "8  1667  Shang Hai, China  Medium             655.6     Normal          0   \n",
       "9  1741   Berlin, Germany  Medium             648.9     Normal          0   \n",
       "\n",
       "   Failure B  Failure C  Failure D  Failure E  \n",
       "0          0          0          0          0  \n",
       "1          0          0          0          0  \n",
       "2          0          0          0          0  \n",
       "3          0          0          0          0  \n",
       "4          1          0          0          0  \n",
       "5          0          0          0          0  \n",
       "6          0          0          0          0  \n",
       "7          0          0          0          0  \n",
       "8          0          0          0          0  \n",
       "9          0          0          0          0  "
      ]
     },
     "execution_count": 3,
     "metadata": {},
     "output_type": "execute_result"
    }
   ],
   "source": [
    "# Verify that result of SQL query is stored in the dataframe\n",
    "df.head(10)\n"
   ]
  },
  {
   "attachments": {},
   "cell_type": "markdown",
   "metadata": {},
   "source": [
    "Display the range of unique values"
   ]
  },
  {
   "cell_type": "code",
   "execution_count": 4,
   "metadata": {},
   "outputs": [
    {
     "name": "stdout",
     "output_type": "stream",
     "text": [
      "Car ID : ['137b948a-c99f-4afa-a2a7-9ef65ae51e8f'\n",
      " '3395a182-7e76-4fb3-94ba-5163d8f4e6b0'\n",
      " '8c6a8e5b-d869-4665-b739-819c9e4a2070' ...\n",
      " '30f99d04-5fe1-42c8-bfc1-5bcac4ea95a7'\n",
      " 'd1f669dc-6fe2-4a0d-b5a9-26d3c6ab2c59'\n",
      " '8aa49bd0-e297-4e6d-a031-72ea40325e75']\n",
      "Model : ['Model 5, 2022' 'Model 3, 2022' 'Model 5, 2021' 'Model 3, 2021'\n",
      " 'Model 7, 2021' 'Model 5, 2020' 'Model 3, 2020' 'Model 7, 2020'\n",
      " 'Model 5, 2019' 'Model 7, 2019' 'Model 3, 2019' 'Model 5, 2018'\n",
      " 'Model 3, 2018' 'Model 7, 2018' 'Model 3, 2017' 'Model 5, 2017'\n",
      " 'Model 7, 2017' 'Model 3, 2016' 'Model 5, 2016' 'Model 7, 2016'\n",
      " 'Model 3, 2015' 'Model 7, 2015' 'Model 5, 2015' 'Model 3, 2014'\n",
      " 'Model 5, 2014' 'Model 3, 2013' 'Model 5, 2013' 'Model 7, 2013'\n",
      " 'Model 3, 2012' 'Model 5, 2012' 'Model 7, 2022' 'Model 7, 2014'\n",
      " 'Model 7, 2012' 'Model 5, 2011' 'Model 3, 2011' 'Model 7, 2011'\n",
      " 'Model 3, 2010' 'Model 7, 2010' 'Model 5, 2010' 'Model 3, 2009'\n",
      " 'Model 5, 2009']\n",
      "Color : ['Blue' 'Black' 'Grey' 'White' 'Red']\n",
      "Temperature : ['110.3 °C' '110.4 °C' '230.7 °C' '230.8 °F' '230.9 °F' '110.5 °C'\n",
      " '110.6 °C' '231.1 °F' '110.7 °C' '231.2 °F' '231.0 °F' '230.6 °F'\n",
      " '230.7 °F' '230.5 °F' '110.2 °C' '230.4 °F' '230.3 °F' '110.1 °C'\n",
      " '230.2 °F' '230.1 °F' '110.0 °C' '110.8 °C' '231.4 °F' '110.9 °C'\n",
      " '111.0 °C' '231.7 °F' '231.9 °F' '231.5 °F' '231.3 °F' '231.6 °F'\n",
      " '111.1 °C' '232.0 °F' '111.2 °C' '232.1 °F' '111.3 °C' '232.4 °F'\n",
      " '232.3 °F' '111.4 °C' '111.5 °C' '232.6 °F' '111.6 °C' '232.8 °F'\n",
      " '111.7 °C' '233.0 °F' '233.2 °F' '111.8 °C' '111.9 °C' '112.1 °C'\n",
      " '233.5 °F' '234.0 °F' '112.2 °C' '233.7 °F' '112.4 °C' '234.3 °F'\n",
      " '112.5 °C' '234.6 °F' '112.7 °C' '112.9 °C' '234.9 °F' '113.1 °C'\n",
      " '235.6 °F' '113.3 °C' '236.0 °F' '235.2 °F' '113.6 °C' '236.5 °F'\n",
      " '113.8 °C' '114.1 °C' '236.9 °F' '114.4 °C' '237.9 °F' '114.7 °C'\n",
      " '115.1 °C' '238.5 °F' '237.4 °F' '239.1 °F' '115.4 °C' '115.8 °C'\n",
      " '239.8 °F' '240.5 °F' '116.2 °C' '116.7 °C' '241.2 °F' '242.0 °F'\n",
      " '117.2 °C' '242.9 °F' '117.7 °C' '244.8 °F' '118.2 °C' '243.8 °F'\n",
      " '118.8 °C' '245.9 °F' '119.5 °C' '247.0 °F' '120.1 °C' '248.3 °F'\n",
      " '120.9 °C' '249.6 °F' '251.0 °F' '121.6 °C' '122.5 °C' '252.5 °F'\n",
      " '254.1 °F' '123.4 °C' '124.3 °C' '125.4 °C' '257.7 °F' '255.8 °F'\n",
      " '259.7 °F' '126.5 °C' '127.7 °C' '128.9 °C' '264.1 °F' '261.8 °F'\n",
      " '266.5 °F' '130.3 °C' '131.7 °C' '269.1 °F' '133.3 °C' '135.0 °C'\n",
      " '271.9 °F' '278.2 °F' '136.8 °C' '138.7 °C' '274.9 °F']\n",
      "RPM : [ 1551  1408  1498 ... -2636 -1703 -1527]\n",
      "Factory : ['Shang Hai, China' 'Berlin, Germany' 'New York, U.S' 'Seng Kang, China'\n",
      " 'Newton, China' 'Bedok, Germany']\n",
      "Usage : ['Medium' 'Low' 'High']\n",
      "Fuel consumption : [659.7 705.3 670.7 ... 832.1 760.9 834.5]\n",
      "Membership : ['Normal' 'Premium' None 'None']\n",
      "Failure A : [0 1]\n",
      "Failure B : [0 1]\n",
      "Failure C : [0 1]\n",
      "Failure D : [0 1]\n",
      "Failure E : [0 1]\n"
     ]
    }
   ],
   "source": [
    "for col in df.columns:\n",
    "    print('{} : {}'.format(col,df[col].unique()))"
   ]
  },
  {
   "attachments": {},
   "cell_type": "markdown",
   "metadata": {},
   "source": [
    "### 1. Check and resolve missing values\n"
   ]
  },
  {
   "cell_type": "code",
   "execution_count": 5,
   "metadata": {},
   "outputs": [
    {
     "name": "stdout",
     "output_type": "stream",
     "text": [
      "Data frame shape : (10081, 14)\n",
      "<class 'pandas.core.frame.DataFrame'>\n",
      "RangeIndex: 10081 entries, 0 to 10080\n",
      "Data columns (total 14 columns):\n",
      " #   Column            Non-Null Count  Dtype  \n",
      "---  ------            --------------  -----  \n",
      " 0   Car ID            10081 non-null  object \n",
      " 1   Model             10081 non-null  object \n",
      " 2   Color             10081 non-null  object \n",
      " 3   Temperature       10081 non-null  object \n",
      " 4   RPM               10081 non-null  int64  \n",
      " 5   Factory           10081 non-null  object \n",
      " 6   Usage             10081 non-null  object \n",
      " 7   Fuel consumption  10081 non-null  float64\n",
      " 8   Membership        9697 non-null   object \n",
      " 9   Failure A         10081 non-null  int64  \n",
      " 10  Failure B         10081 non-null  int64  \n",
      " 11  Failure C         10081 non-null  int64  \n",
      " 12  Failure D         10081 non-null  int64  \n",
      " 13  Failure E         10081 non-null  int64  \n",
      "dtypes: float64(1), int64(6), object(7)\n",
      "memory usage: 1.1+ MB\n",
      "None\n"
     ]
    }
   ],
   "source": [
    "print('Data frame shape : '+str(df.shape))\n",
    "print(df.info())\n"
   ]
  },
  {
   "attachments": {},
   "cell_type": "markdown",
   "metadata": {},
   "source": [
    "From the dataframe info (above), noted that all columns has 10081 values except \"Membership\" column has 384 missing values"
   ]
  },
  {
   "cell_type": "code",
   "execution_count": 6,
   "metadata": {},
   "outputs": [
    {
     "name": "stdout",
     "output_type": "stream",
     "text": [
      "Membership type\n",
      "Normal     4517\n",
      "Premium    3446\n",
      "None       1734\n",
      "Name: Membership, dtype: int64\n",
      " \n",
      "No. of membership with status : 9697\n",
      "No. of membership with missing values : 384\n",
      "Total No. of membership : 10081\n"
     ]
    }
   ],
   "source": [
    "print('Membership type')\n",
    "print(df['Membership'].value_counts(), end='\\n \\n')\n",
    "print('No. of membership with status :', end=' ')\n",
    "print(df['Membership'].value_counts().sum())\n",
    "print('No. of membership with missing values :', end=' ')\n",
    "print(df['Membership'].isna().sum())\n",
    "print('Total No. of membership :', end=' ')\n",
    "print(df['Membership'].value_counts().sum() + df['Membership'].isna().sum())\n",
    "\n"
   ]
  },
  {
   "attachments": {},
   "cell_type": "markdown",
   "metadata": {},
   "source": [
    "384 rows have missing Membership status<br>\n",
    "Since each car are subscribed with “Normal” membership for the first five years after car purchase.<br>\n",
    "Assume data is collect end of year 2022 <br>\n",
    "From the year of manufacture in the \"Model\" column assuming the following:<br>\n",
    "\n",
    "<ol>\n",
    "  <li>Before 2018 \"None\" membership</li>\n",
    "  <li>After 2018 has \"Normal\" membership</li>\n",
    "\n",
    "</ol>"
   ]
  },
  {
   "cell_type": "code",
   "execution_count": 7,
   "metadata": {},
   "outputs": [],
   "source": [
    "# Copy the year of manufacture to a new column \"Year\". convert it to interger and remove it from \"Model\"\n",
    "\n",
    "df['Year'] = df.Model.str[8:]\n",
    "df['Year'] = df['Year'].astype(int)\n",
    "df['Model'] = df.Model.str[:7]\n",
    "\n",
    "\n",
    "# Create temp column and fill base on car manufacture year\n",
    "\n",
    "df['temp'] = np.where(df['Year']>= 2018, \"Normal\", \"None\")\n",
    "df['Membership'].fillna(df.temp, inplace=True)\n",
    "df.drop(columns=['temp'], inplace=True)"
   ]
  },
  {
   "attachments": {},
   "cell_type": "markdown",
   "metadata": {},
   "source": [
    "### 2. Remove duplicated rows<br>\n",
    "\n",
    "Each Car ID should be unique<br>\n",
    "Check for dupicated \"CarID\""
   ]
  },
  {
   "cell_type": "code",
   "execution_count": 8,
   "metadata": {},
   "outputs": [
    {
     "data": {
      "text/plain": [
       "False    10000\n",
       "True        81\n",
       "dtype: int64"
      ]
     },
     "execution_count": 8,
     "metadata": {},
     "output_type": "execute_result"
    }
   ],
   "source": [
    "# look for duplicates base on \"CarID\" , \"Model\" and \"Factory\"\n",
    "\n",
    "df.duplicated(subset=['Car ID', 'Model','Factory']).value_counts()"
   ]
  },
  {
   "attachments": {},
   "cell_type": "markdown",
   "metadata": {},
   "source": [
    "There are 81 duplicated rows<br>\n",
    "Remove the duplicated rows by keeping the first instance"
   ]
  },
  {
   "cell_type": "code",
   "execution_count": 9,
   "metadata": {},
   "outputs": [
    {
     "data": {
      "text/plain": [
       "(10000, 15)"
      ]
     },
     "execution_count": 9,
     "metadata": {},
     "output_type": "execute_result"
    }
   ],
   "source": [
    "# Drop the rows which as duplicated \"Car ID\"\n",
    "\n",
    "df.drop_duplicates(subset=['Car ID'], inplace=True)\n",
    "df.shape"
   ]
  },
  {
   "attachments": {},
   "cell_type": "markdown",
   "metadata": {},
   "source": [
    "### 3. Check for invalid, incorrect values"
   ]
  },
  {
   "cell_type": "code",
   "execution_count": 10,
   "metadata": {},
   "outputs": [
    {
     "name": "stdout",
     "output_type": "stream",
     "text": [
      "<class 'pandas.core.frame.DataFrame'>\n",
      "Int64Index: 10000 entries, 0 to 9999\n",
      "Data columns (total 15 columns):\n",
      " #   Column            Non-Null Count  Dtype  \n",
      "---  ------            --------------  -----  \n",
      " 0   Car ID            10000 non-null  object \n",
      " 1   Model             10000 non-null  object \n",
      " 2   Color             10000 non-null  object \n",
      " 3   Temperature       10000 non-null  object \n",
      " 4   RPM               10000 non-null  int64  \n",
      " 5   Factory           10000 non-null  object \n",
      " 6   Usage             10000 non-null  object \n",
      " 7   Fuel consumption  10000 non-null  float64\n",
      " 8   Membership        10000 non-null  object \n",
      " 9   Failure A         10000 non-null  int64  \n",
      " 10  Failure B         10000 non-null  int64  \n",
      " 11  Failure C         10000 non-null  int64  \n",
      " 12  Failure D         10000 non-null  int64  \n",
      " 13  Failure E         10000 non-null  int64  \n",
      " 14  Year              10000 non-null  int64  \n",
      "dtypes: float64(1), int64(7), object(7)\n",
      "memory usage: 1.2+ MB\n",
      "None\n"
     ]
    }
   ],
   "source": [
    "print(df.info())"
   ]
  },
  {
   "attachments": {},
   "cell_type": "markdown",
   "metadata": {},
   "source": [
    "The temperature values are in string and contains units (deg C & deg F)<br>\n",
    "Therefore remove the units and convert it into float"
   ]
  },
  {
   "cell_type": "code",
   "execution_count": 11,
   "metadata": {},
   "outputs": [],
   "source": [
    "# Create a new \"units\" column and copy units\n",
    "df['units'] = df.Temperature.str[-2:]\n",
    "\n",
    "# Remove the units from \"Temperature\" column\n",
    "df['Temperature'] = df.Temperature.str[:5]\n",
    "\n",
    "# Convert string to float\n",
    "df['Temperature'] = df['Temperature'].astype(float)\n",
    "\n",
    "# Convert \"Temperature\" to °C if the \"units\" is  °F and remove the \"units\" column\n",
    "df.loc[(df.units == \"°F\"), 'Temperature'] = round((df.Temperature-32)*5/9,1)\n",
    "df.drop(columns=[\"units\"], inplace=True)"
   ]
  },
  {
   "cell_type": "code",
   "execution_count": 12,
   "metadata": {},
   "outputs": [
    {
     "data": {
      "text/html": [
       "<div>\n",
       "<style scoped>\n",
       "    .dataframe tbody tr th:only-of-type {\n",
       "        vertical-align: middle;\n",
       "    }\n",
       "\n",
       "    .dataframe tbody tr th {\n",
       "        vertical-align: top;\n",
       "    }\n",
       "\n",
       "    .dataframe thead th {\n",
       "        text-align: right;\n",
       "    }\n",
       "</style>\n",
       "<table border=\"1\" class=\"dataframe\">\n",
       "  <thead>\n",
       "    <tr style=\"text-align: right;\">\n",
       "      <th></th>\n",
       "      <th>Temperature</th>\n",
       "      <th>RPM</th>\n",
       "      <th>Fuel consumption</th>\n",
       "      <th>Failure A</th>\n",
       "      <th>Failure B</th>\n",
       "      <th>Failure C</th>\n",
       "      <th>Failure D</th>\n",
       "      <th>Failure E</th>\n",
       "      <th>Year</th>\n",
       "    </tr>\n",
       "  </thead>\n",
       "  <tbody>\n",
       "    <tr>\n",
       "      <th>count</th>\n",
       "      <td>10000.000000</td>\n",
       "      <td>10000.000000</td>\n",
       "      <td>10000.000000</td>\n",
       "      <td>10000.000000</td>\n",
       "      <td>10000.000000</td>\n",
       "      <td>10000.000000</td>\n",
       "      <td>10000.000000</td>\n",
       "      <td>10000.00000</td>\n",
       "      <td>10000.00000</td>\n",
       "    </tr>\n",
       "    <tr>\n",
       "      <th>mean</th>\n",
       "      <td>113.118580</td>\n",
       "      <td>1470.970100</td>\n",
       "      <td>679.456990</td>\n",
       "      <td>0.025900</td>\n",
       "      <td>0.018500</td>\n",
       "      <td>0.031000</td>\n",
       "      <td>0.024400</td>\n",
       "      <td>0.02640</td>\n",
       "      <td>2016.60630</td>\n",
       "    </tr>\n",
       "    <tr>\n",
       "      <th>std</th>\n",
       "      <td>4.670757</td>\n",
       "      <td>486.047372</td>\n",
       "      <td>58.439696</td>\n",
       "      <td>0.158845</td>\n",
       "      <td>0.134757</td>\n",
       "      <td>0.173326</td>\n",
       "      <td>0.154295</td>\n",
       "      <td>0.16033</td>\n",
       "      <td>3.20305</td>\n",
       "    </tr>\n",
       "    <tr>\n",
       "      <th>min</th>\n",
       "      <td>110.000000</td>\n",
       "      <td>-2636.000000</td>\n",
       "      <td>598.500000</td>\n",
       "      <td>0.000000</td>\n",
       "      <td>0.000000</td>\n",
       "      <td>0.000000</td>\n",
       "      <td>0.000000</td>\n",
       "      <td>0.00000</td>\n",
       "      <td>2009.00000</td>\n",
       "    </tr>\n",
       "    <tr>\n",
       "      <th>25%</th>\n",
       "      <td>110.400000</td>\n",
       "      <td>1418.000000</td>\n",
       "      <td>638.875000</td>\n",
       "      <td>0.000000</td>\n",
       "      <td>0.000000</td>\n",
       "      <td>0.000000</td>\n",
       "      <td>0.000000</td>\n",
       "      <td>0.00000</td>\n",
       "      <td>2014.00000</td>\n",
       "    </tr>\n",
       "    <tr>\n",
       "      <th>50%</th>\n",
       "      <td>111.400000</td>\n",
       "      <td>1499.000000</td>\n",
       "      <td>668.500000</td>\n",
       "      <td>0.000000</td>\n",
       "      <td>0.000000</td>\n",
       "      <td>0.000000</td>\n",
       "      <td>0.000000</td>\n",
       "      <td>0.00000</td>\n",
       "      <td>2017.00000</td>\n",
       "    </tr>\n",
       "    <tr>\n",
       "      <th>75%</th>\n",
       "      <td>113.600000</td>\n",
       "      <td>1609.000000</td>\n",
       "      <td>704.200000</td>\n",
       "      <td>0.000000</td>\n",
       "      <td>0.000000</td>\n",
       "      <td>0.000000</td>\n",
       "      <td>0.000000</td>\n",
       "      <td>0.00000</td>\n",
       "      <td>2019.00000</td>\n",
       "    </tr>\n",
       "    <tr>\n",
       "      <th>max</th>\n",
       "      <td>230.700000</td>\n",
       "      <td>2886.000000</td>\n",
       "      <td>904.800000</td>\n",
       "      <td>1.000000</td>\n",
       "      <td>1.000000</td>\n",
       "      <td>1.000000</td>\n",
       "      <td>1.000000</td>\n",
       "      <td>1.00000</td>\n",
       "      <td>2022.00000</td>\n",
       "    </tr>\n",
       "  </tbody>\n",
       "</table>\n",
       "</div>"
      ],
      "text/plain": [
       "        Temperature           RPM  Fuel consumption     Failure A  \\\n",
       "count  10000.000000  10000.000000      10000.000000  10000.000000   \n",
       "mean     113.118580   1470.970100        679.456990      0.025900   \n",
       "std        4.670757    486.047372         58.439696      0.158845   \n",
       "min      110.000000  -2636.000000        598.500000      0.000000   \n",
       "25%      110.400000   1418.000000        638.875000      0.000000   \n",
       "50%      111.400000   1499.000000        668.500000      0.000000   \n",
       "75%      113.600000   1609.000000        704.200000      0.000000   \n",
       "max      230.700000   2886.000000        904.800000      1.000000   \n",
       "\n",
       "          Failure B     Failure C     Failure D    Failure E         Year  \n",
       "count  10000.000000  10000.000000  10000.000000  10000.00000  10000.00000  \n",
       "mean       0.018500      0.031000      0.024400      0.02640   2016.60630  \n",
       "std        0.134757      0.173326      0.154295      0.16033      3.20305  \n",
       "min        0.000000      0.000000      0.000000      0.00000   2009.00000  \n",
       "25%        0.000000      0.000000      0.000000      0.00000   2014.00000  \n",
       "50%        0.000000      0.000000      0.000000      0.00000   2017.00000  \n",
       "75%        0.000000      0.000000      0.000000      0.00000   2019.00000  \n",
       "max        1.000000      1.000000      1.000000      1.00000   2022.00000  "
      ]
     },
     "execution_count": 12,
     "metadata": {},
     "output_type": "execute_result"
    }
   ],
   "source": [
    "# Check the ranges of columns with numerical values\n",
    "df.describe()"
   ]
  },
  {
   "attachments": {},
   "cell_type": "markdown",
   "metadata": {},
   "source": [
    "### Negative RPM"
   ]
  },
  {
   "cell_type": "code",
   "execution_count": 13,
   "metadata": {},
   "outputs": [
    {
     "data": {
      "text/plain": [
       "Pos    9780\n",
       "Neg     220\n",
       "Name: temp, dtype: int64"
      ]
     },
     "execution_count": 13,
     "metadata": {},
     "output_type": "execute_result"
    }
   ],
   "source": [
    "# Mark negative RPM and count the number of negative RPM\n",
    "df['temp'] = np.where(df['RPM']>= 0, \"Pos\", \"Neg\")\n",
    "df[\"temp\"].value_counts()"
   ]
  },
  {
   "cell_type": "code",
   "execution_count": 14,
   "metadata": {},
   "outputs": [
    {
     "data": {
      "text/html": [
       "<div>\n",
       "<style scoped>\n",
       "    .dataframe tbody tr th:only-of-type {\n",
       "        vertical-align: middle;\n",
       "    }\n",
       "\n",
       "    .dataframe tbody tr th {\n",
       "        vertical-align: top;\n",
       "    }\n",
       "\n",
       "    .dataframe thead th {\n",
       "        text-align: right;\n",
       "    }\n",
       "</style>\n",
       "<table border=\"1\" class=\"dataframe\">\n",
       "  <thead>\n",
       "    <tr style=\"text-align: right;\">\n",
       "      <th></th>\n",
       "      <th>Temperature</th>\n",
       "      <th>RPM</th>\n",
       "      <th>Fuel consumption</th>\n",
       "      <th>Failure A</th>\n",
       "      <th>Failure B</th>\n",
       "      <th>Failure C</th>\n",
       "      <th>Failure D</th>\n",
       "      <th>Failure E</th>\n",
       "      <th>Year</th>\n",
       "    </tr>\n",
       "  </thead>\n",
       "  <tbody>\n",
       "    <tr>\n",
       "      <th>count</th>\n",
       "      <td>220.000000</td>\n",
       "      <td>220.000000</td>\n",
       "      <td>220.000000</td>\n",
       "      <td>220.000000</td>\n",
       "      <td>220.000000</td>\n",
       "      <td>220.000000</td>\n",
       "      <td>220.000000</td>\n",
       "      <td>220.000000</td>\n",
       "      <td>220.000000</td>\n",
       "    </tr>\n",
       "    <tr>\n",
       "      <th>mean</th>\n",
       "      <td>112.912727</td>\n",
       "      <td>-1541.045455</td>\n",
       "      <td>679.673182</td>\n",
       "      <td>0.040909</td>\n",
       "      <td>0.022727</td>\n",
       "      <td>0.009091</td>\n",
       "      <td>0.031818</td>\n",
       "      <td>0.009091</td>\n",
       "      <td>2016.231818</td>\n",
       "    </tr>\n",
       "    <tr>\n",
       "      <th>std</th>\n",
       "      <td>4.169954</td>\n",
       "      <td>171.664794</td>\n",
       "      <td>53.716013</td>\n",
       "      <td>0.198531</td>\n",
       "      <td>0.149373</td>\n",
       "      <td>0.095128</td>\n",
       "      <td>0.175916</td>\n",
       "      <td>0.095128</td>\n",
       "      <td>3.355073</td>\n",
       "    </tr>\n",
       "    <tr>\n",
       "      <th>min</th>\n",
       "      <td>110.100000</td>\n",
       "      <td>-2636.000000</td>\n",
       "      <td>599.200000</td>\n",
       "      <td>0.000000</td>\n",
       "      <td>0.000000</td>\n",
       "      <td>0.000000</td>\n",
       "      <td>0.000000</td>\n",
       "      <td>0.000000</td>\n",
       "      <td>2010.000000</td>\n",
       "    </tr>\n",
       "    <tr>\n",
       "      <th>25%</th>\n",
       "      <td>110.500000</td>\n",
       "      <td>-1620.250000</td>\n",
       "      <td>648.700000</td>\n",
       "      <td>0.000000</td>\n",
       "      <td>0.000000</td>\n",
       "      <td>0.000000</td>\n",
       "      <td>0.000000</td>\n",
       "      <td>0.000000</td>\n",
       "      <td>2014.000000</td>\n",
       "    </tr>\n",
       "    <tr>\n",
       "      <th>50%</th>\n",
       "      <td>111.400000</td>\n",
       "      <td>-1520.000000</td>\n",
       "      <td>671.250000</td>\n",
       "      <td>0.000000</td>\n",
       "      <td>0.000000</td>\n",
       "      <td>0.000000</td>\n",
       "      <td>0.000000</td>\n",
       "      <td>0.000000</td>\n",
       "      <td>2016.000000</td>\n",
       "    </tr>\n",
       "    <tr>\n",
       "      <th>75%</th>\n",
       "      <td>113.100000</td>\n",
       "      <td>-1429.750000</td>\n",
       "      <td>701.775000</td>\n",
       "      <td>0.000000</td>\n",
       "      <td>0.000000</td>\n",
       "      <td>0.000000</td>\n",
       "      <td>0.000000</td>\n",
       "      <td>0.000000</td>\n",
       "      <td>2019.000000</td>\n",
       "    </tr>\n",
       "    <tr>\n",
       "      <th>max</th>\n",
       "      <td>135.000000</td>\n",
       "      <td>-1227.000000</td>\n",
       "      <td>881.600000</td>\n",
       "      <td>1.000000</td>\n",
       "      <td>1.000000</td>\n",
       "      <td>1.000000</td>\n",
       "      <td>1.000000</td>\n",
       "      <td>1.000000</td>\n",
       "      <td>2022.000000</td>\n",
       "    </tr>\n",
       "  </tbody>\n",
       "</table>\n",
       "</div>"
      ],
      "text/plain": [
       "       Temperature          RPM  Fuel consumption   Failure A   Failure B  \\\n",
       "count   220.000000   220.000000        220.000000  220.000000  220.000000   \n",
       "mean    112.912727 -1541.045455        679.673182    0.040909    0.022727   \n",
       "std       4.169954   171.664794         53.716013    0.198531    0.149373   \n",
       "min     110.100000 -2636.000000        599.200000    0.000000    0.000000   \n",
       "25%     110.500000 -1620.250000        648.700000    0.000000    0.000000   \n",
       "50%     111.400000 -1520.000000        671.250000    0.000000    0.000000   \n",
       "75%     113.100000 -1429.750000        701.775000    0.000000    0.000000   \n",
       "max     135.000000 -1227.000000        881.600000    1.000000    1.000000   \n",
       "\n",
       "        Failure C   Failure D   Failure E         Year  \n",
       "count  220.000000  220.000000  220.000000   220.000000  \n",
       "mean     0.009091    0.031818    0.009091  2016.231818  \n",
       "std      0.095128    0.175916    0.095128     3.355073  \n",
       "min      0.000000    0.000000    0.000000  2010.000000  \n",
       "25%      0.000000    0.000000    0.000000  2014.000000  \n",
       "50%      0.000000    0.000000    0.000000  2016.000000  \n",
       "75%      0.000000    0.000000    0.000000  2019.000000  \n",
       "max      1.000000    1.000000    1.000000  2022.000000  "
      ]
     },
     "execution_count": 14,
     "metadata": {},
     "output_type": "execute_result"
    }
   ],
   "source": [
    "#Check the range of the negative values\n",
    "df[df[\"temp\"].str.contains(\"Neg\")].describe()"
   ]
  },
  {
   "attachments": {},
   "cell_type": "markdown",
   "metadata": {},
   "source": [
    "There are 220 negative RPM values.<br>\n",
    "The range of negative RPM are between -2636 and -1227 is assumed to be a realistic if it was an positive value base on the maximum positive RPM (2886) <br>\n",
    "Convert all negative RPM by multiplying it by -1 to make it positive"
   ]
  },
  {
   "cell_type": "code",
   "execution_count": 15,
   "metadata": {},
   "outputs": [],
   "source": [
    "# Convert  negative \"RPM\" to positive and remove the \"temp\" column\n",
    "df.loc[(df.temp == \"Neg\"), 'RPM'] = df.RPM * -1\n",
    "df.drop(columns=[\"temp\"], inplace=True)"
   ]
  },
  {
   "cell_type": "code",
   "execution_count": 16,
   "metadata": {},
   "outputs": [
    {
     "data": {
      "text/html": [
       "<div>\n",
       "<style scoped>\n",
       "    .dataframe tbody tr th:only-of-type {\n",
       "        vertical-align: middle;\n",
       "    }\n",
       "\n",
       "    .dataframe tbody tr th {\n",
       "        vertical-align: top;\n",
       "    }\n",
       "\n",
       "    .dataframe thead th {\n",
       "        text-align: right;\n",
       "    }\n",
       "</style>\n",
       "<table border=\"1\" class=\"dataframe\">\n",
       "  <thead>\n",
       "    <tr style=\"text-align: right;\">\n",
       "      <th></th>\n",
       "      <th>Temperature</th>\n",
       "      <th>RPM</th>\n",
       "      <th>Fuel consumption</th>\n",
       "      <th>Failure A</th>\n",
       "      <th>Failure B</th>\n",
       "      <th>Failure C</th>\n",
       "      <th>Failure D</th>\n",
       "      <th>Failure E</th>\n",
       "      <th>Year</th>\n",
       "    </tr>\n",
       "  </thead>\n",
       "  <tbody>\n",
       "    <tr>\n",
       "      <th>count</th>\n",
       "      <td>10000.000000</td>\n",
       "      <td>10000.000000</td>\n",
       "      <td>10000.000000</td>\n",
       "      <td>10000.000000</td>\n",
       "      <td>10000.000000</td>\n",
       "      <td>10000.000000</td>\n",
       "      <td>10000.000000</td>\n",
       "      <td>10000.00000</td>\n",
       "      <td>10000.00000</td>\n",
       "    </tr>\n",
       "    <tr>\n",
       "      <th>mean</th>\n",
       "      <td>113.118580</td>\n",
       "      <td>1538.776100</td>\n",
       "      <td>679.456990</td>\n",
       "      <td>0.025900</td>\n",
       "      <td>0.018500</td>\n",
       "      <td>0.031000</td>\n",
       "      <td>0.024400</td>\n",
       "      <td>0.02640</td>\n",
       "      <td>2016.60630</td>\n",
       "    </tr>\n",
       "    <tr>\n",
       "      <th>std</th>\n",
       "      <td>4.670757</td>\n",
       "      <td>179.284096</td>\n",
       "      <td>58.439696</td>\n",
       "      <td>0.158845</td>\n",
       "      <td>0.134757</td>\n",
       "      <td>0.173326</td>\n",
       "      <td>0.154295</td>\n",
       "      <td>0.16033</td>\n",
       "      <td>3.20305</td>\n",
       "    </tr>\n",
       "    <tr>\n",
       "      <th>min</th>\n",
       "      <td>110.000000</td>\n",
       "      <td>1168.000000</td>\n",
       "      <td>598.500000</td>\n",
       "      <td>0.000000</td>\n",
       "      <td>0.000000</td>\n",
       "      <td>0.000000</td>\n",
       "      <td>0.000000</td>\n",
       "      <td>0.00000</td>\n",
       "      <td>2009.00000</td>\n",
       "    </tr>\n",
       "    <tr>\n",
       "      <th>25%</th>\n",
       "      <td>110.400000</td>\n",
       "      <td>1423.000000</td>\n",
       "      <td>638.875000</td>\n",
       "      <td>0.000000</td>\n",
       "      <td>0.000000</td>\n",
       "      <td>0.000000</td>\n",
       "      <td>0.000000</td>\n",
       "      <td>0.00000</td>\n",
       "      <td>2014.00000</td>\n",
       "    </tr>\n",
       "    <tr>\n",
       "      <th>50%</th>\n",
       "      <td>111.400000</td>\n",
       "      <td>1503.000000</td>\n",
       "      <td>668.500000</td>\n",
       "      <td>0.000000</td>\n",
       "      <td>0.000000</td>\n",
       "      <td>0.000000</td>\n",
       "      <td>0.000000</td>\n",
       "      <td>0.00000</td>\n",
       "      <td>2017.00000</td>\n",
       "    </tr>\n",
       "    <tr>\n",
       "      <th>75%</th>\n",
       "      <td>113.600000</td>\n",
       "      <td>1612.000000</td>\n",
       "      <td>704.200000</td>\n",
       "      <td>0.000000</td>\n",
       "      <td>0.000000</td>\n",
       "      <td>0.000000</td>\n",
       "      <td>0.000000</td>\n",
       "      <td>0.00000</td>\n",
       "      <td>2019.00000</td>\n",
       "    </tr>\n",
       "    <tr>\n",
       "      <th>max</th>\n",
       "      <td>230.700000</td>\n",
       "      <td>2886.000000</td>\n",
       "      <td>904.800000</td>\n",
       "      <td>1.000000</td>\n",
       "      <td>1.000000</td>\n",
       "      <td>1.000000</td>\n",
       "      <td>1.000000</td>\n",
       "      <td>1.00000</td>\n",
       "      <td>2022.00000</td>\n",
       "    </tr>\n",
       "  </tbody>\n",
       "</table>\n",
       "</div>"
      ],
      "text/plain": [
       "        Temperature           RPM  Fuel consumption     Failure A  \\\n",
       "count  10000.000000  10000.000000      10000.000000  10000.000000   \n",
       "mean     113.118580   1538.776100        679.456990      0.025900   \n",
       "std        4.670757    179.284096         58.439696      0.158845   \n",
       "min      110.000000   1168.000000        598.500000      0.000000   \n",
       "25%      110.400000   1423.000000        638.875000      0.000000   \n",
       "50%      111.400000   1503.000000        668.500000      0.000000   \n",
       "75%      113.600000   1612.000000        704.200000      0.000000   \n",
       "max      230.700000   2886.000000        904.800000      1.000000   \n",
       "\n",
       "          Failure B     Failure C     Failure D    Failure E         Year  \n",
       "count  10000.000000  10000.000000  10000.000000  10000.00000  10000.00000  \n",
       "mean       0.018500      0.031000      0.024400      0.02640   2016.60630  \n",
       "std        0.134757      0.173326      0.154295      0.16033      3.20305  \n",
       "min        0.000000      0.000000      0.000000      0.00000   2009.00000  \n",
       "25%        0.000000      0.000000      0.000000      0.00000   2014.00000  \n",
       "50%        0.000000      0.000000      0.000000      0.00000   2017.00000  \n",
       "75%        0.000000      0.000000      0.000000      0.00000   2019.00000  \n",
       "max        1.000000      1.000000      1.000000      1.00000   2022.00000  "
      ]
     },
     "execution_count": 16,
     "metadata": {},
     "output_type": "execute_result"
    }
   ],
   "source": [
    "# Check the range are no longer negative  \n",
    "df.describe()"
   ]
  },
  {
   "attachments": {},
   "cell_type": "markdown",
   "metadata": {},
   "source": [
    "### 4. Understand the features and perform feature engineering\n",
    "The objective is to predict the occurrence of any car failure (binary classfication).<br>\n",
    "Therefore combine the 5 different car failures into 1 column \"Failure\""
   ]
  },
  {
   "cell_type": "code",
   "execution_count": 17,
   "metadata": {},
   "outputs": [],
   "source": [
    "# Create a new column \"Failure\" which has represented by \"0\" if there are no failures and \"1\" if it has any one of the 5 failures\n",
    "df[\"Failure\"] = df[\"Failure A\"] | df[\"Failure B\"]| df[\"Failure C\"]| df[\"Failure D\"]\n"
   ]
  },
  {
   "attachments": {},
   "cell_type": "markdown",
   "metadata": {},
   "source": [
    "Assuming that for each model,the cars manufactured each year at the same factory are of the same quality and reliabiliy<br>\n",
    "The year is not required\n",
    "\n",
    "Remove the unnecessary columns Car ID, Color, Failure A - E and Year"
   ]
  },
  {
   "cell_type": "code",
   "execution_count": 18,
   "metadata": {},
   "outputs": [
    {
     "data": {
      "text/html": [
       "<div>\n",
       "<style scoped>\n",
       "    .dataframe tbody tr th:only-of-type {\n",
       "        vertical-align: middle;\n",
       "    }\n",
       "\n",
       "    .dataframe tbody tr th {\n",
       "        vertical-align: top;\n",
       "    }\n",
       "\n",
       "    .dataframe thead th {\n",
       "        text-align: right;\n",
       "    }\n",
       "</style>\n",
       "<table border=\"1\" class=\"dataframe\">\n",
       "  <thead>\n",
       "    <tr style=\"text-align: right;\">\n",
       "      <th></th>\n",
       "      <th>Model</th>\n",
       "      <th>Temperature</th>\n",
       "      <th>RPM</th>\n",
       "      <th>Factory</th>\n",
       "      <th>Usage</th>\n",
       "      <th>Fuel consumption</th>\n",
       "      <th>Membership</th>\n",
       "      <th>Failure</th>\n",
       "    </tr>\n",
       "  </thead>\n",
       "  <tbody>\n",
       "    <tr>\n",
       "      <th>0</th>\n",
       "      <td>Model 5</td>\n",
       "      <td>110.3</td>\n",
       "      <td>1551</td>\n",
       "      <td>Shang Hai, China</td>\n",
       "      <td>Medium</td>\n",
       "      <td>659.7</td>\n",
       "      <td>Normal</td>\n",
       "      <td>0</td>\n",
       "    </tr>\n",
       "    <tr>\n",
       "      <th>1</th>\n",
       "      <td>Model 3</td>\n",
       "      <td>110.4</td>\n",
       "      <td>1408</td>\n",
       "      <td>Shang Hai, China</td>\n",
       "      <td>Medium</td>\n",
       "      <td>705.3</td>\n",
       "      <td>Premium</td>\n",
       "      <td>1</td>\n",
       "    </tr>\n",
       "    <tr>\n",
       "      <th>2</th>\n",
       "      <td>Model 3</td>\n",
       "      <td>110.3</td>\n",
       "      <td>1498</td>\n",
       "      <td>Shang Hai, China</td>\n",
       "      <td>Low</td>\n",
       "      <td>670.7</td>\n",
       "      <td>Premium</td>\n",
       "      <td>0</td>\n",
       "    </tr>\n",
       "    <tr>\n",
       "      <th>3</th>\n",
       "      <td>Model 3</td>\n",
       "      <td>110.4</td>\n",
       "      <td>1433</td>\n",
       "      <td>Berlin, Germany</td>\n",
       "      <td>High</td>\n",
       "      <td>630.6</td>\n",
       "      <td>Premium</td>\n",
       "      <td>1</td>\n",
       "    </tr>\n",
       "    <tr>\n",
       "      <th>4</th>\n",
       "      <td>Model 3</td>\n",
       "      <td>230.7</td>\n",
       "      <td>1408</td>\n",
       "      <td>New York, U.S</td>\n",
       "      <td>High</td>\n",
       "      <td>660.9</td>\n",
       "      <td>Normal</td>\n",
       "      <td>1</td>\n",
       "    </tr>\n",
       "  </tbody>\n",
       "</table>\n",
       "</div>"
      ],
      "text/plain": [
       "     Model  Temperature   RPM           Factory   Usage  Fuel consumption  \\\n",
       "0  Model 5        110.3  1551  Shang Hai, China  Medium             659.7   \n",
       "1  Model 3        110.4  1408  Shang Hai, China  Medium             705.3   \n",
       "2  Model 3        110.3  1498  Shang Hai, China     Low             670.7   \n",
       "3  Model 3        110.4  1433   Berlin, Germany    High             630.6   \n",
       "4  Model 3        230.7  1408     New York, U.S    High             660.9   \n",
       "\n",
       "  Membership  Failure  \n",
       "0     Normal        0  \n",
       "1    Premium        1  \n",
       "2    Premium        0  \n",
       "3    Premium        1  \n",
       "4     Normal        1  "
      ]
     },
     "execution_count": 18,
     "metadata": {},
     "output_type": "execute_result"
    }
   ],
   "source": [
    "df = df.drop([\"Car ID\", \"Color\", \"Failure A\", \"Failure B\", \"Failure C\", \"Failure D\", \"Failure E\", \"Year\" ] , axis = 1)\n",
    "df.head()"
   ]
  },
  {
   "attachments": {},
   "cell_type": "markdown",
   "metadata": {},
   "source": [
    "**Check for any highly correlated features**<br>\n",
    "\n",
    "So that the number of features can be reduced"
   ]
  },
  {
   "cell_type": "code",
   "execution_count": 19,
   "metadata": {},
   "outputs": [
    {
     "data": {
      "text/plain": [
       "<AxesSubplot: >"
      ]
     },
     "execution_count": 19,
     "metadata": {},
     "output_type": "execute_result"
    },
    {
     "data": {
      "image/png": "[encoded data removed]",
      "text/plain": [
       "<Figure size 640x480 with 2 Axes>"
      ]
     },
     "metadata": {},
     "output_type": "display_data"
    }
   ],
   "source": [
    "# Print heatmap to check if there is any highly correlated features\n",
    "sns.heatmap(df.corr(numeric_only=True),cbar=True,annot=True,cmap='Blues')"
   ]
  },
  {
   "cell_type": "markdown",
   "metadata": {},
   "source": [
    "There do not seems to have high corelation columns among the features"
   ]
  },
  {
   "cell_type": "code",
   "execution_count": 20,
   "metadata": {},
   "outputs": [],
   "source": [
    "#Convert Failure from numbers into string for plot\n",
    "df['Failure'] = np.where(df['Failure']== 0, \"0\", \"1\")\n"
   ]
  },
  {
   "cell_type": "code",
   "execution_count": 21,
   "metadata": {},
   "outputs": [
    {
     "data": {
      "text/html": [
       "<div>\n",
       "<style scoped>\n",
       "    .dataframe tbody tr th:only-of-type {\n",
       "        vertical-align: middle;\n",
       "    }\n",
       "\n",
       "    .dataframe tbody tr th {\n",
       "        vertical-align: top;\n",
       "    }\n",
       "\n",
       "    .dataframe thead th {\n",
       "        text-align: right;\n",
       "    }\n",
       "</style>\n",
       "<table border=\"1\" class=\"dataframe\">\n",
       "  <thead>\n",
       "    <tr style=\"text-align: right;\">\n",
       "      <th></th>\n",
       "      <th>Model</th>\n",
       "      <th>Temperature</th>\n",
       "      <th>RPM</th>\n",
       "      <th>Factory</th>\n",
       "      <th>Usage</th>\n",
       "      <th>Fuel consumption</th>\n",
       "      <th>Membership</th>\n",
       "      <th>Failure</th>\n",
       "    </tr>\n",
       "  </thead>\n",
       "  <tbody>\n",
       "    <tr>\n",
       "      <th>0</th>\n",
       "      <td>Model 5</td>\n",
       "      <td>110.3</td>\n",
       "      <td>1551</td>\n",
       "      <td>Shang Hai, China</td>\n",
       "      <td>Medium</td>\n",
       "      <td>659.7</td>\n",
       "      <td>Normal</td>\n",
       "      <td>0</td>\n",
       "    </tr>\n",
       "    <tr>\n",
       "      <th>1</th>\n",
       "      <td>Model 3</td>\n",
       "      <td>110.4</td>\n",
       "      <td>1408</td>\n",
       "      <td>Shang Hai, China</td>\n",
       "      <td>Medium</td>\n",
       "      <td>705.3</td>\n",
       "      <td>Premium</td>\n",
       "      <td>1</td>\n",
       "    </tr>\n",
       "    <tr>\n",
       "      <th>2</th>\n",
       "      <td>Model 3</td>\n",
       "      <td>110.3</td>\n",
       "      <td>1498</td>\n",
       "      <td>Shang Hai, China</td>\n",
       "      <td>Low</td>\n",
       "      <td>670.7</td>\n",
       "      <td>Premium</td>\n",
       "      <td>0</td>\n",
       "    </tr>\n",
       "    <tr>\n",
       "      <th>3</th>\n",
       "      <td>Model 3</td>\n",
       "      <td>110.4</td>\n",
       "      <td>1433</td>\n",
       "      <td>Berlin, Germany</td>\n",
       "      <td>High</td>\n",
       "      <td>630.6</td>\n",
       "      <td>Premium</td>\n",
       "      <td>1</td>\n",
       "    </tr>\n",
       "    <tr>\n",
       "      <th>4</th>\n",
       "      <td>Model 3</td>\n",
       "      <td>230.7</td>\n",
       "      <td>1408</td>\n",
       "      <td>New York, U.S</td>\n",
       "      <td>High</td>\n",
       "      <td>660.9</td>\n",
       "      <td>Normal</td>\n",
       "      <td>1</td>\n",
       "    </tr>\n",
       "  </tbody>\n",
       "</table>\n",
       "</div>"
      ],
      "text/plain": [
       "     Model  Temperature   RPM           Factory   Usage  Fuel consumption  \\\n",
       "0  Model 5        110.3  1551  Shang Hai, China  Medium             659.7   \n",
       "1  Model 3        110.4  1408  Shang Hai, China  Medium             705.3   \n",
       "2  Model 3        110.3  1498  Shang Hai, China     Low             670.7   \n",
       "3  Model 3        110.4  1433   Berlin, Germany    High             630.6   \n",
       "4  Model 3        230.7  1408     New York, U.S    High             660.9   \n",
       "\n",
       "  Membership Failure  \n",
       "0     Normal       0  \n",
       "1    Premium       1  \n",
       "2    Premium       0  \n",
       "3    Premium       1  \n",
       "4     Normal       1  "
      ]
     },
     "execution_count": 21,
     "metadata": {},
     "output_type": "execute_result"
    }
   ],
   "source": [
    "df.head()"
   ]
  },
  {
   "cell_type": "code",
   "execution_count": 22,
   "metadata": {},
   "outputs": [
    {
     "data": {
      "image/png": "[encoded data removed]",
      "text/plain": [
       "<Figure size 640x480 with 1 Axes>"
      ]
     },
     "metadata": {},
     "output_type": "display_data"
    },
    {
     "data": {
      "image/png": "[encoded data removed]",
      "text/plain": [
       "<Figure size 640x480 with 1 Axes>"
      ]
     },
     "metadata": {},
     "output_type": "display_data"
    },
    {
     "data": {
      "image/png": "[encoded data removed]",
      "text/plain": [
       "<Figure size 640x480 with 1 Axes>"
      ]
     },
     "metadata": {},
     "output_type": "display_data"
    }
   ],
   "source": [
    "def plot_box(data, cols, col_x = 'Failure'):\n",
    "    for col in cols:\n",
    "        sns.set_style(\"whitegrid\")\n",
    "        sns.boxplot(x = col, y = col_x, data=data)\n",
    "        plt.xlabel(col) # Set text for the x axis\n",
    "        plt.ylabel(col_x)# Set text for y axis\n",
    "        plt.show()\n",
    "\n",
    "num_cols = [\"Temperature\", \"RPM\", \"Fuel consumption\"]\n",
    "# print(num_cols)\n",
    "\n",
    "plot_box(df, num_cols)"
   ]
  },
  {
   "attachments": {},
   "cell_type": "markdown",
   "metadata": {},
   "source": [
    "Noticed from the temperature box plot there is one or more outlier which caused the plot range to be limited."
   ]
  },
  {
   "cell_type": "code",
   "execution_count": 23,
   "metadata": {},
   "outputs": [
    {
     "data": {
      "text/plain": [
       "1"
      ]
     },
     "execution_count": 23,
     "metadata": {},
     "output_type": "execute_result"
    }
   ],
   "source": [
    "# Number of rows temperature value is more than 140 deg C\n",
    "(df[\"Temperature\"] > 140).sum()"
   ]
  },
  {
   "cell_type": "code",
   "execution_count": 24,
   "metadata": {},
   "outputs": [],
   "source": [
    "# Remove the row which temperature >140 deg C\n",
    "df.drop(df[df['Temperature'] > 140].index, inplace = True)\n"
   ]
  },
  {
   "cell_type": "code",
   "execution_count": 25,
   "metadata": {},
   "outputs": [
    {
     "data": {
      "image/png": "[encoded data removed]",
      "text/plain": [
       "<Figure size 640x480 with 1 Axes>"
      ]
     },
     "metadata": {},
     "output_type": "display_data"
    },
    {
     "data": {
      "image/png": "[encoded data removed]",
      "text/plain": [
       "<Figure size 640x480 with 1 Axes>"
      ]
     },
     "metadata": {},
     "output_type": "display_data"
    },
    {
     "data": {
      "image/png": "[encoded data removed]",
      "text/plain": [
       "<Figure size 640x480 with 1 Axes>"
      ]
     },
     "metadata": {},
     "output_type": "display_data"
    }
   ],
   "source": [
    "#Plot again\n",
    "plot_box(df, num_cols)"
   ]
  },
  {
   "attachments": {},
   "cell_type": "markdown",
   "metadata": {},
   "source": [
    "### Interpretation\n",
    "\n",
    "<ol>\n",
    "    <li>Temperature : The median temperature of cars with failure is slightly higher than cars without failure</li>\n",
    "    <li>RPM : Cars with failure seems to have lower  median RPM</li>\n",
    "    <li>Fuel Consumption : Cars with failure have higher median fuel consumption</li>\n",
    "</ol>\n"
   ]
  },
  {
   "cell_type": "code",
   "execution_count": 26,
   "metadata": {},
   "outputs": [
    {
     "data": {
      "text/html": [
       "<div>\n",
       "<style scoped>\n",
       "    .dataframe tbody tr th:only-of-type {\n",
       "        vertical-align: middle;\n",
       "    }\n",
       "\n",
       "    .dataframe tbody tr th {\n",
       "        vertical-align: top;\n",
       "    }\n",
       "\n",
       "    .dataframe thead th {\n",
       "        text-align: right;\n",
       "    }\n",
       "</style>\n",
       "<table border=\"1\" class=\"dataframe\">\n",
       "  <thead>\n",
       "    <tr style=\"text-align: right;\">\n",
       "      <th></th>\n",
       "      <th>Model</th>\n",
       "      <th>Temperature</th>\n",
       "      <th>RPM</th>\n",
       "      <th>Factory</th>\n",
       "      <th>Usage</th>\n",
       "      <th>Fuel consumption</th>\n",
       "      <th>Membership</th>\n",
       "      <th>Failure</th>\n",
       "    </tr>\n",
       "  </thead>\n",
       "  <tbody>\n",
       "    <tr>\n",
       "      <th>0</th>\n",
       "      <td>Model 5</td>\n",
       "      <td>110.3</td>\n",
       "      <td>1551</td>\n",
       "      <td>Shang Hai, China</td>\n",
       "      <td>Medium</td>\n",
       "      <td>659.7</td>\n",
       "      <td>Normal</td>\n",
       "      <td>0</td>\n",
       "    </tr>\n",
       "    <tr>\n",
       "      <th>1</th>\n",
       "      <td>Model 3</td>\n",
       "      <td>110.4</td>\n",
       "      <td>1408</td>\n",
       "      <td>Shang Hai, China</td>\n",
       "      <td>Medium</td>\n",
       "      <td>705.3</td>\n",
       "      <td>Premium</td>\n",
       "      <td>1</td>\n",
       "    </tr>\n",
       "    <tr>\n",
       "      <th>2</th>\n",
       "      <td>Model 3</td>\n",
       "      <td>110.3</td>\n",
       "      <td>1498</td>\n",
       "      <td>Shang Hai, China</td>\n",
       "      <td>Low</td>\n",
       "      <td>670.7</td>\n",
       "      <td>Premium</td>\n",
       "      <td>0</td>\n",
       "    </tr>\n",
       "    <tr>\n",
       "      <th>3</th>\n",
       "      <td>Model 3</td>\n",
       "      <td>110.4</td>\n",
       "      <td>1433</td>\n",
       "      <td>Berlin, Germany</td>\n",
       "      <td>High</td>\n",
       "      <td>630.6</td>\n",
       "      <td>Premium</td>\n",
       "      <td>1</td>\n",
       "    </tr>\n",
       "    <tr>\n",
       "      <th>5</th>\n",
       "      <td>Model 5</td>\n",
       "      <td>110.3</td>\n",
       "      <td>1425</td>\n",
       "      <td>Shang Hai, China</td>\n",
       "      <td>Medium</td>\n",
       "      <td>691.8</td>\n",
       "      <td>Premium</td>\n",
       "      <td>0</td>\n",
       "    </tr>\n",
       "  </tbody>\n",
       "</table>\n",
       "</div>"
      ],
      "text/plain": [
       "     Model  Temperature   RPM           Factory   Usage  Fuel consumption  \\\n",
       "0  Model 5        110.3  1551  Shang Hai, China  Medium             659.7   \n",
       "1  Model 3        110.4  1408  Shang Hai, China  Medium             705.3   \n",
       "2  Model 3        110.3  1498  Shang Hai, China     Low             670.7   \n",
       "3  Model 3        110.4  1433   Berlin, Germany    High             630.6   \n",
       "5  Model 5        110.3  1425  Shang Hai, China  Medium             691.8   \n",
       "\n",
       "  Membership Failure  \n",
       "0     Normal       0  \n",
       "1    Premium       1  \n",
       "2    Premium       0  \n",
       "3    Premium       1  \n",
       "5    Premium       0  "
      ]
     },
     "execution_count": 26,
     "metadata": {},
     "output_type": "execute_result"
    }
   ],
   "source": [
    "df.head()"
   ]
  },
  {
   "cell_type": "code",
   "execution_count": 27,
   "metadata": {},
   "outputs": [
    {
     "data": {
      "text/plain": [
       "Model\n",
       "Model 3    5999\n",
       "Model 5    2997\n",
       "Model 7    1003\n",
       "dtype: int64"
      ]
     },
     "execution_count": 27,
     "metadata": {},
     "output_type": "execute_result"
    }
   ],
   "source": [
    "df.groupby('Model').size()"
   ]
  },
  {
   "cell_type": "code",
   "execution_count": 28,
   "metadata": {},
   "outputs": [
    {
     "name": "stdout",
     "output_type": "stream",
     "text": [
      "Factory           Failure\n",
      "Bedok, Germany    0             5\n",
      "                  1            25\n",
      "Berlin, Germany   0          2015\n",
      "                  1           200\n",
      "New York, U.S     0          1941\n",
      "                  1           185\n",
      "Newton, China     0             3\n",
      "                  1            41\n",
      "Seng Kang, China  0            24\n",
      "                  1            82\n",
      "Shang Hai, China  0          5014\n",
      "                  1           464\n",
      "dtype: int64\n",
      "[5, 25, 2015, 200, 1941, 185, 3, 41, 24, 82, 5014, 464]\n",
      "[('Bedok, Germany', '0'), ('Bedok, Germany', '1'), ('Berlin, Germany', '0'), ('Berlin, Germany', '1'), ('New York, U.S', '0'), ('New York, U.S', '1'), ('Newton, China', '0'), ('Newton, China', '1'), ('Seng Kang, China', '0'), ('Seng Kang, China', '1'), ('Shang Hai, China', '0'), ('Shang Hai, China', '1')]\n"
     ]
    }
   ],
   "source": [
    "df2=df.groupby(['Factory', \"Failure\"]).size()\n",
    "factoryfail=df2.values.tolist()\n",
    "print(df2)\n",
    "print(factoryfail)\n",
    "names=df2.index.tolist()\n",
    "names=list(names)\n",
    "print(names)\n",
    "\n",
    "\n"
   ]
  },
  {
   "cell_type": "code",
   "execution_count": 29,
   "metadata": {},
   "outputs": [
    {
     "data": {
      "text/plain": [
       "<AxesSubplot: >"
      ]
     },
     "execution_count": 29,
     "metadata": {},
     "output_type": "execute_result"
    },
    {
     "data": {
      "image/png": "[encoded data removed]",
      "text/plain": [
       "<Figure size 400x400 with 1 Axes>"
      ]
     },
     "metadata": {},
     "output_type": "display_data"
    }
   ],
   "source": [
    "df2.plot.pie(figsize=(4,4))"
   ]
  },
  {
   "cell_type": "code",
   "execution_count": 30,
   "metadata": {},
   "outputs": [
    {
     "data": {
      "text/html": [
       "<div>\n",
       "<style scoped>\n",
       "    .dataframe tbody tr th:only-of-type {\n",
       "        vertical-align: middle;\n",
       "    }\n",
       "\n",
       "    .dataframe tbody tr th {\n",
       "        vertical-align: top;\n",
       "    }\n",
       "\n",
       "    .dataframe thead th {\n",
       "        text-align: right;\n",
       "    }\n",
       "</style>\n",
       "<table border=\"1\" class=\"dataframe\">\n",
       "  <thead>\n",
       "    <tr style=\"text-align: right;\">\n",
       "      <th></th>\n",
       "      <th>Model</th>\n",
       "      <th>Temperature</th>\n",
       "      <th>RPM</th>\n",
       "      <th>Factory</th>\n",
       "      <th>Usage</th>\n",
       "      <th>Fuel consumption</th>\n",
       "      <th>Membership</th>\n",
       "      <th>Failure</th>\n",
       "    </tr>\n",
       "  </thead>\n",
       "  <tbody>\n",
       "    <tr>\n",
       "      <th>0</th>\n",
       "      <td>Model 5</td>\n",
       "      <td>110.3</td>\n",
       "      <td>1551</td>\n",
       "      <td>Shang Hai, China</td>\n",
       "      <td>Medium</td>\n",
       "      <td>659.7</td>\n",
       "      <td>Normal</td>\n",
       "      <td>0</td>\n",
       "    </tr>\n",
       "    <tr>\n",
       "      <th>1</th>\n",
       "      <td>Model 3</td>\n",
       "      <td>110.4</td>\n",
       "      <td>1408</td>\n",
       "      <td>Shang Hai, China</td>\n",
       "      <td>Medium</td>\n",
       "      <td>705.3</td>\n",
       "      <td>Premium</td>\n",
       "      <td>1</td>\n",
       "    </tr>\n",
       "    <tr>\n",
       "      <th>2</th>\n",
       "      <td>Model 3</td>\n",
       "      <td>110.3</td>\n",
       "      <td>1498</td>\n",
       "      <td>Shang Hai, China</td>\n",
       "      <td>Low</td>\n",
       "      <td>670.7</td>\n",
       "      <td>Premium</td>\n",
       "      <td>0</td>\n",
       "    </tr>\n",
       "    <tr>\n",
       "      <th>3</th>\n",
       "      <td>Model 3</td>\n",
       "      <td>110.4</td>\n",
       "      <td>1433</td>\n",
       "      <td>Berlin, Germany</td>\n",
       "      <td>High</td>\n",
       "      <td>630.6</td>\n",
       "      <td>Premium</td>\n",
       "      <td>1</td>\n",
       "    </tr>\n",
       "    <tr>\n",
       "      <th>5</th>\n",
       "      <td>Model 5</td>\n",
       "      <td>110.3</td>\n",
       "      <td>1425</td>\n",
       "      <td>Shang Hai, China</td>\n",
       "      <td>Medium</td>\n",
       "      <td>691.8</td>\n",
       "      <td>Premium</td>\n",
       "      <td>0</td>\n",
       "    </tr>\n",
       "  </tbody>\n",
       "</table>\n",
       "</div>"
      ],
      "text/plain": [
       "     Model  Temperature   RPM           Factory   Usage  Fuel consumption  \\\n",
       "0  Model 5        110.3  1551  Shang Hai, China  Medium             659.7   \n",
       "1  Model 3        110.4  1408  Shang Hai, China  Medium             705.3   \n",
       "2  Model 3        110.3  1498  Shang Hai, China     Low             670.7   \n",
       "3  Model 3        110.4  1433   Berlin, Germany    High             630.6   \n",
       "5  Model 5        110.3  1425  Shang Hai, China  Medium             691.8   \n",
       "\n",
       "  Membership Failure  \n",
       "0     Normal       0  \n",
       "1    Premium       1  \n",
       "2    Premium       0  \n",
       "3    Premium       1  \n",
       "5    Premium       0  "
      ]
     },
     "execution_count": 30,
     "metadata": {},
     "output_type": "execute_result"
    }
   ],
   "source": [
    "df.head()"
   ]
  },
  {
   "attachments": {},
   "cell_type": "markdown",
   "metadata": {},
   "source": [
    "### 5. Remove Outliers\n",
    "Using Z score method"
   ]
  },
  {
   "cell_type": "code",
   "execution_count": 31,
   "metadata": {},
   "outputs": [],
   "source": [
    "num_col = [\"Temperature\", \"RPM\", \"Fuel consumption\"]\n",
    "df2 = df[num_col]\n",
    "# df2.head()\n",
    "# df2.shape"
   ]
  },
  {
   "cell_type": "code",
   "execution_count": 32,
   "metadata": {},
   "outputs": [],
   "source": [
    "# Calculate the Z score\n",
    "Z = (df2 - df2.mean())/df2.std()\n",
    "# Z.head()\n",
    "# Z.shape"
   ]
  },
  {
   "cell_type": "code",
   "execution_count": 33,
   "metadata": {},
   "outputs": [
    {
     "data": {
      "text/plain": [
       "(586, 3)"
      ]
     },
     "execution_count": 33,
     "metadata": {},
     "output_type": "execute_result"
    }
   ],
   "source": [
    "n = len(num_col) \n",
    "Outliers = Z.loc[((Z > -3).sum(axis=1)<n) | ((Z <= 3).sum(axis=1)<n),:]\n",
    "# Outliers.head()\n",
    "Outliers.shape\n"
   ]
  },
  {
   "cell_type": "markdown",
   "metadata": {},
   "source": [
    "Remove the outliers"
   ]
  },
  {
   "cell_type": "code",
   "execution_count": 34,
   "metadata": {},
   "outputs": [
    {
     "name": "stdout",
     "output_type": "stream",
     "text": [
      "Number of rows before discarding outliers = 9999\n",
      "No. of rows to be discarded = 586\n",
      "Number of rows after discarding outliers = 9413\n"
     ]
    }
   ],
   "source": [
    "\n",
    "print('Number of rows before discarding outliers = %d' % (df.shape[0]))\n",
    "print('No. of rows to be discarded = %d' %(Outliers.shape[0]))\n",
    "out = Outliers.index\n",
    "df=df.drop(out)\n",
    "df=df.reset_index(drop=True)# Reindex the data frame\n",
    "print('Number of rows after discarding outliers = %d' % (df.shape[0]))"
   ]
  },
  {
   "cell_type": "code",
   "execution_count": 38,
   "metadata": {},
   "outputs": [
    {
     "data": {
      "text/html": [
       "<div>\n",
       "<style scoped>\n",
       "    .dataframe tbody tr th:only-of-type {\n",
       "        vertical-align: middle;\n",
       "    }\n",
       "\n",
       "    .dataframe tbody tr th {\n",
       "        vertical-align: top;\n",
       "    }\n",
       "\n",
       "    .dataframe thead th {\n",
       "        text-align: right;\n",
       "    }\n",
       "</style>\n",
       "<table border=\"1\" class=\"dataframe\">\n",
       "  <thead>\n",
       "    <tr style=\"text-align: right;\">\n",
       "      <th></th>\n",
       "      <th>Model</th>\n",
       "      <th>Temperature</th>\n",
       "      <th>RPM</th>\n",
       "      <th>Factory</th>\n",
       "      <th>Usage</th>\n",
       "      <th>Fuel consumption</th>\n",
       "      <th>Membership</th>\n",
       "      <th>Failure</th>\n",
       "    </tr>\n",
       "  </thead>\n",
       "  <tbody>\n",
       "    <tr>\n",
       "      <th>0</th>\n",
       "      <td>Model 5</td>\n",
       "      <td>110.3</td>\n",
       "      <td>1551</td>\n",
       "      <td>Shang Hai, China</td>\n",
       "      <td>Medium</td>\n",
       "      <td>659.7</td>\n",
       "      <td>Normal</td>\n",
       "      <td>0</td>\n",
       "    </tr>\n",
       "    <tr>\n",
       "      <th>1</th>\n",
       "      <td>Model 3</td>\n",
       "      <td>110.4</td>\n",
       "      <td>1408</td>\n",
       "      <td>Shang Hai, China</td>\n",
       "      <td>Medium</td>\n",
       "      <td>705.3</td>\n",
       "      <td>Premium</td>\n",
       "      <td>1</td>\n",
       "    </tr>\n",
       "    <tr>\n",
       "      <th>2</th>\n",
       "      <td>Model 3</td>\n",
       "      <td>110.3</td>\n",
       "      <td>1498</td>\n",
       "      <td>Shang Hai, China</td>\n",
       "      <td>Low</td>\n",
       "      <td>670.7</td>\n",
       "      <td>Premium</td>\n",
       "      <td>0</td>\n",
       "    </tr>\n",
       "    <tr>\n",
       "      <th>3</th>\n",
       "      <td>Model 3</td>\n",
       "      <td>110.4</td>\n",
       "      <td>1433</td>\n",
       "      <td>Berlin, Germany</td>\n",
       "      <td>High</td>\n",
       "      <td>630.6</td>\n",
       "      <td>Premium</td>\n",
       "      <td>1</td>\n",
       "    </tr>\n",
       "    <tr>\n",
       "      <th>4</th>\n",
       "      <td>Model 5</td>\n",
       "      <td>110.3</td>\n",
       "      <td>1425</td>\n",
       "      <td>Shang Hai, China</td>\n",
       "      <td>Medium</td>\n",
       "      <td>691.8</td>\n",
       "      <td>Premium</td>\n",
       "      <td>0</td>\n",
       "    </tr>\n",
       "  </tbody>\n",
       "</table>\n",
       "</div>"
      ],
      "text/plain": [
       "     Model  Temperature   RPM           Factory   Usage  Fuel consumption  \\\n",
       "0  Model 5        110.3  1551  Shang Hai, China  Medium             659.7   \n",
       "1  Model 3        110.4  1408  Shang Hai, China  Medium             705.3   \n",
       "2  Model 3        110.3  1498  Shang Hai, China     Low             670.7   \n",
       "3  Model 3        110.4  1433   Berlin, Germany    High             630.6   \n",
       "4  Model 5        110.3  1425  Shang Hai, China  Medium             691.8   \n",
       "\n",
       "  Membership Failure  \n",
       "0     Normal       0  \n",
       "1    Premium       1  \n",
       "2    Premium       0  \n",
       "3    Premium       1  \n",
       "4    Premium       0  "
      ]
     },
     "execution_count": 38,
     "metadata": {},
     "output_type": "execute_result"
    }
   ],
   "source": [
    "df.head()\n",
    "# df.shape"
   ]
  },
  {
   "cell_type": "code",
   "execution_count": null,
   "metadata": {},
   "outputs": [],
   "source": []
  },
  {
   "cell_type": "code",
   "execution_count": null,
   "metadata": {},
   "outputs": [],
   "source": []
  },
  {
   "cell_type": "code",
   "execution_count": null,
   "metadata": {},
   "outputs": [],
   "source": []
  },
  {
   "cell_type": "code",
   "execution_count": 34,
   "metadata": {},
   "outputs": [],
   "source": [
    "# Make dictionaries for ordinal features\n",
    "\n",
    "usage_map = {\n",
    "    \"Low\":      1,\n",
    "    \"Medium\":   2,\n",
    "    \"High\":     3\n",
    "}\n",
    "\n",
    "\n",
    "membership_map = {\n",
    "    \"Premium\":      1,\n",
    "    \"Normal\":   2,\n",
    "    \"None\":     3\n",
    "}\n"
   ]
  },
  {
   "cell_type": "code",
   "execution_count": 35,
   "metadata": {},
   "outputs": [
    {
     "name": "stderr",
     "output_type": "stream",
     "text": [
      "/tmp/ipykernel_27870/3960321058.py:4: FutureWarning: In a future version, `df.iloc[:, i] = newvals` will attempt to set the values inplace instead of always setting a new array. To retain the old behavior, use either `df[df.columns[i]] = newvals` or, if columns are non-unique, `df.isetitem(i, newvals)`\n",
      "  df.loc[:,\"Usage\"] = df[\"Usage\"].map(usage_map)\n",
      "/tmp/ipykernel_27870/3960321058.py:5: FutureWarning: In a future version, `df.iloc[:, i] = newvals` will attempt to set the values inplace instead of always setting a new array. To retain the old behavior, use either `df[df.columns[i]] = newvals` or, if columns are non-unique, `df.isetitem(i, newvals)`\n",
      "  df.loc[:,\"Membership\"] = df[\"Membership\"].map(membership_map)\n"
     ]
    }
   ],
   "source": [
    "# Transform categorical features into numerical features\n",
    "\n",
    "def encode(df):\n",
    "    df.loc[:,\"Usage\"] = df[\"Usage\"].map(usage_map)\n",
    "    df.loc[:,\"Membership\"] = df[\"Membership\"].map(membership_map)\n",
    "    # df[df.columns[\"Usage\"]] = df[\"Usage\"].map(usage_map)\n",
    "    # df[df.columns[\"Membership\"]] = df[\"Membership\"].map(membership_map)\n",
    "  \n",
    "    return df\n",
    "\n",
    "dfb= encode(df)"
   ]
  },
  {
   "attachments": {},
   "cell_type": "markdown",
   "metadata": {},
   "source": [
    "### Split the data"
   ]
  },
  {
   "cell_type": "code",
   "execution_count": 36,
   "metadata": {},
   "outputs": [],
   "source": [
    "from sklearn.model_selection import train_test_split\n",
    "\n",
    "\n",
    "X = df.drop(\"Failure\",axis=1)\n",
    "y = df['Failure']\n",
    "X_train, X_test, y_train, y_test = train_test_split(X, y, test_size=0.2, random_state=123)\n",
    "\n"
   ]
  },
  {
   "cell_type": "code",
   "execution_count": 37,
   "metadata": {},
   "outputs": [
    {
     "name": "stdout",
     "output_type": "stream",
     "text": [
      "X_Train Shape : (7999, 7)\n",
      "y_Train Shape : (7999,)\n",
      "X_test Shape : (2000, 7)\n",
      "Y_test Shape : (2000,)\n"
     ]
    }
   ],
   "source": [
    "print('X_Train Shape :', end=' ')\n",
    "print(X_train.shape)\n",
    "print('y_Train Shape :', end=' ')\n",
    "print(y_train.shape)\n",
    "print('X_test Shape :', end=' ')\n",
    "print(X_test.shape)\n",
    "print('Y_test Shape :', end=' ')\n",
    "print(y_test.shape)\n"
   ]
  },
  {
   "cell_type": "code",
   "execution_count": 38,
   "metadata": {},
   "outputs": [],
   "source": [
    "num_cols = [\"Temperature\", \"RPM\", \"Usage\", \"Fuel consumption\", \"Membership\"]\n",
    "\n",
    "cat_cols = [\"Model\", \"Factory\"]"
   ]
  },
  {
   "cell_type": "code",
   "execution_count": 39,
   "metadata": {},
   "outputs": [],
   "source": [
    "from sklearn.preprocessing import OneHotEncoder, MinMaxScaler\n",
    "from sklearn.pipeline import Pipeline\n",
    "from sklearn.compose import ColumnTransformer\n",
    "from sklearn.impute import SimpleImputer\n",
    "\n"
   ]
  },
  {
   "cell_type": "code",
   "execution_count": 40,
   "metadata": {},
   "outputs": [],
   "source": [
    "num_transformer = Pipeline(steps=[\n",
    "    ('impute', SimpleImputer(strategy='mean')),\n",
    "    ('scale',MinMaxScaler())\n",
    "])\n",
    "\n",
    "cat_transformer = Pipeline(steps=[\n",
    "    ('impute', SimpleImputer(strategy='most_frequent')),\n",
    "    ('one-hot',OneHotEncoder(handle_unknown='ignore', sparse_output=False))\n",
    "])\n",
    "\n"
   ]
  },
  {
   "cell_type": "code",
   "execution_count": 41,
   "metadata": {},
   "outputs": [],
   "source": [
    "preprocessor = ColumnTransformer(\n",
    "   transformers=[\n",
    "    ('numeric', num_transformer, num_cols)\n",
    "   ,('categorical', cat_transformer, cat_cols)\n",
    "]) "
   ]
  },
  {
   "cell_type": "code",
   "execution_count": null,
   "metadata": {},
   "outputs": [],
   "source": []
  },
  {
   "cell_type": "code",
   "execution_count": 42,
   "metadata": {},
   "outputs": [],
   "source": [
    "\n",
    "from sklearn.linear_model import LogisticRegression\n",
    "from sklearn.svm import SVC\n",
    "from sklearn.neighbors import KNeighborsClassifier\n",
    "from sklearn.tree import DecisionTreeClassifier\n",
    "from sklearn.ensemble import RandomForestClassifier, GradientBoostingClassifier"
   ]
  },
  {
   "cell_type": "code",
   "execution_count": 43,
   "metadata": {},
   "outputs": [],
   "source": [
    "\n",
    "pipeline = Pipeline(steps = [\n",
    "               ('preprocessor', preprocessor)\n",
    "              ,('clf',LogisticRegression())\n",
    "           ])"
   ]
  },
  {
   "cell_type": "code",
   "execution_count": 44,
   "metadata": {},
   "outputs": [],
   "source": [
    "pipeline.fit(X_train, y_train)\n",
    "score = pipeline.score(X_test, y_test)\n",
    "# print(f\"Model score: {score}\") # model accuracy"
   ]
  },
  {
   "cell_type": "code",
   "execution_count": 45,
   "metadata": {},
   "outputs": [],
   "source": [
    "pipeline.fit(X_train, y_train)\n",
    "preds = pipeline.predict(X_test)"
   ]
  },
  {
   "cell_type": "code",
   "execution_count": 46,
   "metadata": {},
   "outputs": [
    {
     "data": {
      "text/plain": [
       "(2000,)"
      ]
     },
     "execution_count": 46,
     "metadata": {},
     "output_type": "execute_result"
    }
   ],
   "source": [
    "preds.shape"
   ]
  },
  {
   "cell_type": "code",
   "execution_count": 47,
   "metadata": {},
   "outputs": [],
   "source": [
    "# import sklearn\n",
    "from sklearn.metrics import classification_report"
   ]
  },
  {
   "cell_type": "code",
   "execution_count": 48,
   "metadata": {},
   "outputs": [
    {
     "name": "stdout",
     "output_type": "stream",
     "text": [
      "              precision    recall  f1-score   support\n",
      "\n",
      "           0       0.92      1.00      0.96      1815\n",
      "           1       0.84      0.17      0.29       185\n",
      "\n",
      "    accuracy                           0.92      2000\n",
      "   macro avg       0.88      0.58      0.62      2000\n",
      "weighted avg       0.91      0.92      0.90      2000\n",
      "\n"
     ]
    }
   ],
   "source": [
    "print(classification_report(y_test, preds))"
   ]
  },
  {
   "cell_type": "code",
   "execution_count": 49,
   "metadata": {},
   "outputs": [
    {
     "ename": "NameError",
     "evalue": "name 'sklearn' is not defined",
     "output_type": "error",
     "traceback": [
      "\u001b[0;31m---------------------------------------------------------------------------\u001b[0m",
      "\u001b[0;31mNameError\u001b[0m                                 Traceback (most recent call last)",
      "Cell \u001b[0;32mIn[49], line 1\u001b[0m\n\u001b[0;32m----> 1\u001b[0m report \u001b[39m=\u001b[39m sklearn\u001b[39m.\u001b[39mmetrics\u001b[39m.\u001b[39mclassification_report(y_test, preds, output_dict\u001b[39m=\u001b[39m\u001b[39mTrue\u001b[39;00m)\n",
      "\u001b[0;31mNameError\u001b[0m: name 'sklearn' is not defined"
     ]
    }
   ],
   "source": [
    "report = sklearn.metrics.classification_report(y_test, preds, output_dict=True)\n"
   ]
  },
  {
   "cell_type": "code",
   "execution_count": null,
   "metadata": {},
   "outputs": [],
   "source": [
    "report"
   ]
  },
  {
   "cell_type": "code",
   "execution_count": null,
   "metadata": {},
   "outputs": [],
   "source": []
  },
  {
   "cell_type": "code",
   "execution_count": null,
   "metadata": {},
   "outputs": [],
   "source": []
  },
  {
   "cell_type": "code",
   "execution_count": null,
   "metadata": {},
   "outputs": [],
   "source": [
    "clfs = []\n",
    "clfs.append(LogisticRegression())\n",
    "clfs.append(SVC())\n",
    "clfs.append(KNeighborsClassifier(n_neighbors=3))\n",
    "clfs.append(DecisionTreeClassifier())\n",
    "clfs.append(RandomForestClassifier())\n",
    "clfs.append(GradientBoostingClassifier())"
   ]
  },
  {
   "cell_type": "code",
   "execution_count": null,
   "metadata": {},
   "outputs": [],
   "source": [
    "pipeline = Pipeline(steps = [\n",
    "               ('preprocessor', preprocessor)\n",
    "              ,('clf',LogisticRegression())\n",
    "           ])"
   ]
  },
  {
   "cell_type": "code",
   "execution_count": null,
   "metadata": {},
   "outputs": [],
   "source": [
    "for classifier in clfs:\n",
    "    # pipeline.set_params(clf = classifier)\n",
    "    # scores = cross_validate(pipeline, X_train, y_train)\n",
    "    pipeline = Pipeline(steps = [\n",
    "               ('preprocessor', preprocessor)\n",
    "              ,('clf',classifier)\n",
    "           ])\n",
    "    pipeline.fit(X_train, y_train)\n",
    "    preds = pipeline.predict(X_test)\n",
    "\n",
    "    \n",
    "    print('---------------------------------')\n",
    "    print(str(classifier))\n",
    "    print('-----------------------------------')\n",
    "    # for key, values in scores.items():\n",
    "    #         print(key,' mean ', values.mean())\n",
    "    #         print(key,' std ', values.std())\n",
    "    print(classification_report(y_test, preds))"
   ]
  },
  {
   "cell_type": "code",
   "execution_count": null,
   "metadata": {},
   "outputs": [],
   "source": [
    "from sklearn.model_selection import cross_validate\n",
    "\n",
    "scores = cross_validate(pipeline, X_train, y_train)\n",
    "scores"
   ]
  }
 ],
 "metadata": {
  "kernelspec": {
   "display_name": "aiap",
   "language": "python",
   "name": "python3"
  },
  "language_info": {
   "codemirror_mode": {
    "name": "ipython",
    "version": 3
   },
   "file_extension": ".py",
   "mimetype": "text/x-python",
   "name": "python",
   "nbconvert_exporter": "python",
   "pygments_lexer": "ipython3",
   "version": "3.9.15"
  },
  "orig_nbformat": 4,
  "vscode": {
   "interpreter": {
    "hash": "15ed58d7e45ae034a156688dda3505cc798575bc328aeb80050cdd41f9ebff7e"
   }
  }
 },
 "nbformat": 4,
 "nbformat_minor": 2
}
